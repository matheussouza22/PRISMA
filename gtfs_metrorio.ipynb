{
 "cells": [
  {
   "cell_type": "code",
   "execution_count": 1,
   "id": "5d292e81",
   "metadata": {},
   "outputs": [],
   "source": [
    "import sqlite3\n",
    "import pandas as pd\n",
    "from unidecode import unidecode"
   ]
  },
  {
   "cell_type": "code",
   "execution_count": 2,
   "id": "8ae6524b",
   "metadata": {},
   "outputs": [],
   "source": [
    "data_agency = {\n",
    "    \"agency_id\": [\"METRORIO\"],\n",
    "    \"agency_name\": [\"METRORIO\"],\n",
    "    \"agency_url\": [\"https://www.metrorio.com.br/\"],\n",
    "    \"agency_timezone\": [\"America/Sao_Paulo\"],\n",
    "}\n",
    "\n",
    "df_agency = pd.DataFrame(data_agency)\n",
    "df_agency.to_csv(\"agency.txt\", index=False)  "
   ]
  },
  {
   "cell_type": "code",
   "execution_count": 3,
   "id": "4619e206",
   "metadata": {},
   "outputs": [],
   "source": [
    "\n",
    "data_routes = {\n",
    "    \"route_id\": [\"METRO_L1_URUGUAI_IPANEMA_/_GENERAL_OSORIO\", \"METRO_L2_PAVUNA_BOTAFOGO\", \"METRO_L4_IPANEMA_/_GENERAL_OSORIO_JARDIM_OCEANICO\"],\n",
    "    \"route_short_name\": [\"L1\", \"L2\", \"L4\"],\n",
    "    \"route_long_name\": [\"Linha 1\", \"Linha 2\", \"Linha 4\"],\n",
    "    \"route_desc\": [\"URUGUAI_IPANEMA_/_GENERAL_OSORIO\", \"PAVUNA_BOTAFOGO\", \"IPANEMA_/_GENERAL_OSORIO_JARDIM_OCEANICO\"],\n",
    "    \"route_type\": [1, 1, 1],\n",
    "\n",
    "}\n",
    "df_routes = pd.DataFrame(data_routes)\n",
    "df_routes.to_csv(\"routes.txt\", index=False)"
   ]
  },
  {
   "cell_type": "code",
   "execution_count": 4,
   "id": "8404be95",
   "metadata": {},
   "outputs": [],
   "source": [
    "conn = sqlite3.connect(\"bd_transportes.db\")\n"
   ]
  },
  {
   "cell_type": "code",
   "execution_count": 5,
   "id": "34a35d86",
   "metadata": {},
   "outputs": [],
   "source": [
    "df_data_stops = pd.read_sql_query(\"SELECT nome, latitude, longitude FROM estacoes_localizacao WHERE MODAL = 'Metrô'\", conn)\n",
    "\n",
    "df_data_stops = df_data_stops.rename(columns={\"nome\": \"stop_name\", \"latitude\": \"stop_lat\", \"longitude\": \"stop_lon\"})\n",
    "df_data_stops[\"stop_id\"] = df_data_stops['stop_name'].apply(lambda x : unidecode(x).replace(\" \", \"_\").upper())\n",
    "df_data_stops = df_data_stops[[\"stop_id\", \"stop_name\", \"stop_lat\", \"stop_lon\"]]\n",
    "df_data_stops.to_csv(\"stops.txt\", index=False)"
   ]
  },
  {
   "cell_type": "code",
   "execution_count": null,
   "id": "35fb01bb",
   "metadata": {},
   "outputs": [
    {
     "name": "stdout",
     "output_type": "stream",
     "text": [
      "                                            route_id\n",
      "0          METRO_L1_URUGUAI_IPANEMA_/_GENERAL_OSORIO\n",
      "1                           METRO_L2_PAVUNA_BOTAFOGO\n",
      "2  METRO_L4_IPANEMA_/_GENERAL_OSORIO_JARDIM_OCEANICO\n"
     ]
    }
   ],
   "source": [
    "\n",
    "data_calendar = {\n",
    "    \"service_id\": [\"WEEKDAYS\",\"WEEKEND\"],\n",
    "    \"monday\": [1, 0],\n",
    "    \"tuesday\": [1, 0],\n",
    "    \"wednesday\": [1, 0],\n",
    "    \"thursday\": [1, 0],\n",
    "    \"friday\": [1, 0],\n",
    "    \"saturday\": [0, 1],\n",
    "    \"sunday\": [0, 1],\n",
    "    \"start_date\": [\"20250101\", \"20250101\"],\n",
    "    \"end_date\": [\"20251231\", \"20251231\"],\n",
    "\n",
    "}\n",
    "df_calendar = pd.DataFrame(data_calendar)\n",
    "df_calendar.to_csv(\"calendar.txt\", index=False)\n",
    "\n",
    "data_trips = {\n",
    "    \"route_id\": [\"METRO_L1_URUGUAI_IPANEMA_/_GENERAL_OSORIO\", \"METRO_L2_PAVUNA_BOTAFOGO\", \"METRO_L4_IPANEMA_/_GENERAL_OSORIO_JARDIM_OCEANICO\"],\n",
    "    \"service_id\": [\"WEEKDAYS\", \"WEEKEND\"],\n",
    "    \"trip_id\": [\"METRO_L1_URUGUAI_IPANEMA_/_GENERAL_OSORIO_1\", \"METRO_L2_PAVUNA_BOTAFOGO_1\", \"METRO_L4_IPANEMA_/_GENERAL_OSORIO_JARDIM_OCEANICO_1\"],\n",
    "}\n",
    "\n"
   ]
  },
  {
   "cell_type": "code",
   "execution_count": null,
   "id": "0e22182c",
   "metadata": {},
   "outputs": [],
   "source": []
  }
 ],
 "metadata": {
  "kernelspec": {
   "display_name": "Python 3",
   "language": "python",
   "name": "python3"
  },
  "language_info": {
   "codemirror_mode": {
    "name": "ipython",
    "version": 3
   },
   "file_extension": ".py",
   "mimetype": "text/x-python",
   "name": "python",
   "nbconvert_exporter": "python",
   "pygments_lexer": "ipython3",
   "version": "3.13.3"
  }
 },
 "nbformat": 4,
 "nbformat_minor": 5
}
